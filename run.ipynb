{
  "nbformat": 4,
  "nbformat_minor": 0,
  "metadata": {
    "colab": {
      "name": "run.ipynb",
      "provenance": [],
      "collapsed_sections": [
        "C2L8oXxKl9DH"
      ]
    },
    "kernelspec": {
      "name": "python3",
      "display_name": "Python 3"
    },
    "language_info": {
      "name": "python"
    },
    "accelerator": "GPU"
  },
  "cells": [
    {
      "cell_type": "markdown",
      "source": [
        "## Mount GDrive"
      ],
      "metadata": {
        "id": "KTo5coB1lcOO"
      }
    },
    {
      "cell_type": "code",
      "execution_count": 1,
      "metadata": {
        "id": "fLvR0C3BlaCu",
        "colab": {
          "base_uri": "https://localhost:8080/"
        },
        "outputId": "182ccdb9-343e-4159-90fc-2f6f8231f30d"
      },
      "outputs": [
        {
          "output_type": "stream",
          "name": "stdout",
          "text": [
            "Mounted at /content/gdrive\n"
          ]
        }
      ],
      "source": [
        "# Connect to Drive\n",
        "from google.colab import drive\n",
        "drive.mount(\"/content/gdrive\")"
      ]
    },
    {
      "cell_type": "markdown",
      "source": [
        "## Start"
      ],
      "metadata": {
        "id": "C2L8oXxKl9DH"
      }
    },
    {
      "cell_type": "code",
      "source": [
        "%reset -f"
      ],
      "metadata": {
        "id": "Z8gPF2Eml-Rr"
      },
      "execution_count": null,
      "outputs": []
    },
    {
      "cell_type": "code",
      "source": [
        "! nvidia-smi"
      ],
      "metadata": {
        "id": "u6j5WR1gl-u5",
        "outputId": "4e243a40-dcf7-4435-f6df-f427f0a5001e",
        "colab": {
          "base_uri": "https://localhost:8080/"
        }
      },
      "execution_count": null,
      "outputs": [
        {
          "output_type": "stream",
          "name": "stdout",
          "text": [
            "Sat Mar 19 05:49:35 2022       \n",
            "+-----------------------------------------------------------------------------+\n",
            "| NVIDIA-SMI 460.32.03    Driver Version: 460.32.03    CUDA Version: 11.2     |\n",
            "|-------------------------------+----------------------+----------------------+\n",
            "| GPU  Name        Persistence-M| Bus-Id        Disp.A | Volatile Uncorr. ECC |\n",
            "| Fan  Temp  Perf  Pwr:Usage/Cap|         Memory-Usage | GPU-Util  Compute M. |\n",
            "|                               |                      |               MIG M. |\n",
            "|===============================+======================+======================|\n",
            "|   0  Tesla K80           Off  | 00000000:00:04.0 Off |                    0 |\n",
            "| N/A   51C    P8    29W / 149W |      0MiB / 11441MiB |      0%      Default |\n",
            "|                               |                      |                  N/A |\n",
            "+-------------------------------+----------------------+----------------------+\n",
            "                                                                               \n",
            "+-----------------------------------------------------------------------------+\n",
            "| Processes:                                                                  |\n",
            "|  GPU   GI   CI        PID   Type   Process name                  GPU Memory |\n",
            "|        ID   ID                                                   Usage      |\n",
            "|=============================================================================|\n",
            "|  No running processes found                                                 |\n",
            "+-----------------------------------------------------------------------------+\n"
          ]
        }
      ]
    },
    {
      "cell_type": "markdown",
      "source": [
        "## Main"
      ],
      "metadata": {
        "id": "D2I3dxq-leEo"
      }
    },
    {
      "cell_type": "markdown",
      "source": [
        "### Unzip data to `/content/data`"
      ],
      "metadata": {
        "id": "h1BiFt_AGxrv"
      }
    },
    {
      "cell_type": "code",
      "source": [
        "cd /content/gdrive/Shareddrives/AML/data"
      ],
      "metadata": {
        "id": "WmMHfGNdG0Ie",
        "colab": {
          "base_uri": "https://localhost:8080/"
        },
        "outputId": "a8b288de-c3f0-4288-9d88-0fe8de7ed0d4"
      },
      "execution_count": 2,
      "outputs": [
        {
          "output_type": "stream",
          "name": "stdout",
          "text": [
            "/content/gdrive/Shareddrives/AML/data\n"
          ]
        }
      ]
    },
    {
      "cell_type": "code",
      "source": [
        "ls"
      ],
      "metadata": {
        "id": "5nfYrOqJfDKn",
        "colab": {
          "base_uri": "https://localhost:8080/"
        },
        "outputId": "eac4a3bc-26bc-4669-c6e5-a40e2c4c1669"
      },
      "execution_count": 3,
      "outputs": [
        {
          "output_type": "stream",
          "name": "stdout",
          "text": [
            "\u001b[0m\u001b[01;34mcifar10\u001b[0m/     \u001b[01;34mfmnist\u001b[0m/     \u001b[01;34mmnist\u001b[0m/        mnist_01247.zip  mnist_35689.zip\n",
            "cifar10.zip  fmnist.zip  \u001b[01;34mmnist_01247\u001b[0m/  \u001b[01;34mmnist_35689\u001b[0m/     mnist.zip\n"
          ]
        }
      ]
    },
    {
      "cell_type": "code",
      "source": [
        "!mkdir /content/data"
      ],
      "metadata": {
        "id": "bHuhzZPyTcQf"
      },
      "execution_count": null,
      "outputs": []
    },
    {
      "cell_type": "code",
      "source": [
        "!unzip -q cifar10.zip -d /content/data/"
      ],
      "metadata": {
        "id": "QtkKBEgSH3V6"
      },
      "execution_count": 4,
      "outputs": []
    },
    {
      "cell_type": "code",
      "source": [
        "# Sync changes to drive\n",
        "# drive.flush_and_unmount() "
      ],
      "metadata": {
        "id": "wuqHvwRWws03"
      },
      "execution_count": null,
      "outputs": []
    },
    {
      "cell_type": "markdown",
      "source": [
        "### `cd` to code"
      ],
      "metadata": {
        "id": "PGA-qEQCoQAL"
      }
    },
    {
      "cell_type": "code",
      "source": [
        "cd /content/gdrive/Shareddrives/AML/code"
      ],
      "metadata": {
        "colab": {
          "base_uri": "https://localhost:8080/"
        },
        "id": "045LIUaynBX3",
        "outputId": "370c8366-b516-48fd-aabf-1415fefac081"
      },
      "execution_count": 5,
      "outputs": [
        {
          "output_type": "stream",
          "name": "stdout",
          "text": [
            "/content/gdrive/Shareddrives/AML/code\n"
          ]
        }
      ]
    },
    {
      "cell_type": "code",
      "source": [
        "ls"
      ],
      "metadata": {
        "colab": {
          "base_uri": "https://localhost:8080/"
        },
        "id": "NfKSIqb-V9EA",
        "outputId": "fb39f041-36d1-44eb-c132-80658b260cba"
      },
      "execution_count": 6,
      "outputs": [
        {
          "output_type": "stream",
          "name": "stdout",
          "text": [
            "analyze_scores.py  dataset.py       \u001b[0m\u001b[01;34m__pycache__\u001b[0m/        test_ood.py\n",
            "augmentations.py   finetune_ood.py  run_classifier.py   utils.py\n",
            "augment_data.py    losses.py        scores.py\n",
            "config.py          mean_and_std.py  split_data.py\n",
            "data2csv.py        \u001b[01;34mmodels\u001b[0m/          test_classifier.py\n"
          ]
        }
      ]
    },
    {
      "cell_type": "markdown",
      "source": [
        "### Run `.py` files"
      ],
      "metadata": {
        "id": "JK-57DbhoS-v"
      }
    },
    {
      "cell_type": "code",
      "source": [
        "FNAME = \"run_classifier.py\"\n",
        "ARGS = \"-d cifar10\""
      ],
      "metadata": {
        "id": "adqG-H2toWNB"
      },
      "execution_count": 7,
      "outputs": []
    },
    {
      "cell_type": "code",
      "source": [
        "! python3 {FNAME} {ARGS}"
      ],
      "metadata": {
        "colab": {
          "base_uri": "https://localhost:8080/"
        },
        "id": "vhFWvbFJoCgR",
        "outputId": "90ab268d-079f-44e1-ee14-6da636dd3ed3"
      },
      "execution_count": 9,
      "outputs": [
        {
          "output_type": "stream",
          "name": "stdout",
          "text": [
            "Using GPU: Tesla K80\n",
            "Epoch: 01/20\n",
            "100% 352/352 [02:12<00:00,  2.66it/s]\n",
            "100% 40/40 [00:06<00:00,  5.86it/s]\n",
            "Train loss: 1.8098 | Val. loss: 1.5022\n",
            "acc = 0.3401 | f1 = 0.3313\n",
            "acc = 0.4544 | f1 = 0.4374\n",
            "\n",
            "Epoch: 02/20\n",
            "100% 352/352 [02:10<00:00,  2.69it/s]\n",
            "100% 40/40 [00:06<00:00,  5.93it/s]\n",
            "Train loss: 1.4103 | Val. loss: 1.2551\n",
            "acc = 0.5046 | f1 = 0.5008\n",
            "acc = 0.5634 | f1 = 0.5528\n",
            "\n",
            "Epoch: 03/20\n",
            "100% 352/352 [02:11<00:00,  2.69it/s]\n",
            "100% 40/40 [00:06<00:00,  5.88it/s]\n",
            "Train loss: 1.2264 | Val. loss: 0.9625\n",
            "acc = 0.5755 | f1 = 0.5729\n",
            "acc = 0.6560 | f1 = 0.6541\n",
            "\n",
            "Epoch: 04/20\n",
            "100% 352/352 [02:11<00:00,  2.69it/s]\n",
            "100% 40/40 [00:06<00:00,  5.98it/s]\n",
            "Train loss: 1.1128 | Val. loss: 0.9172\n",
            "acc = 0.6185 | f1 = 0.6169\n",
            "acc = 0.6678 | f1 = 0.6623\n",
            "\n",
            "Epoch: 05/20\n",
            "100% 352/352 [02:11<00:00,  2.68it/s]\n",
            "100% 40/40 [00:06<00:00,  5.94it/s]\n",
            "Train loss: 1.0162 | Val. loss: 0.9415\n",
            "acc = 0.6537 | f1 = 0.6523\n",
            "acc = 0.6706 | f1 = 0.6640\n",
            "\n",
            "Epoch: 06/20\n",
            "100% 352/352 [02:10<00:00,  2.69it/s]\n",
            "100% 40/40 [00:06<00:00,  5.80it/s]\n",
            "Train loss: 0.9536 | Val. loss: 0.8160\n",
            "acc = 0.6798 | f1 = 0.6785\n",
            "acc = 0.7178 | f1 = 0.7128\n",
            "\n",
            "Epoch: 07/20\n",
            "100% 352/352 [02:11<00:00,  2.68it/s]\n",
            "100% 40/40 [00:06<00:00,  5.85it/s]\n",
            "Train loss: 0.9023 | Val. loss: 0.8894\n",
            "acc = 0.6948 | f1 = 0.6937\n",
            "acc = 0.7138 | f1 = 0.7041\n",
            "\n",
            "Epoch: 08/20\n",
            "100% 352/352 [02:10<00:00,  2.69it/s]\n",
            "100% 40/40 [00:06<00:00,  6.03it/s]\n",
            "Train loss: 0.8571 | Val. loss: 0.7108\n",
            "acc = 0.7109 | f1 = 0.7098\n",
            "acc = 0.7570 | f1 = 0.7585\n",
            "\n",
            "Epoch: 09/20\n",
            "100% 352/352 [02:10<00:00,  2.69it/s]\n",
            "100% 40/40 [00:06<00:00,  5.99it/s]\n",
            "Train loss: 0.8172 | Val. loss: 0.6949\n",
            "acc = 0.7252 | f1 = 0.7243\n",
            "acc = 0.7578 | f1 = 0.7538\n",
            "\n",
            "Epoch: 10/20\n",
            "100% 352/352 [02:11<00:00,  2.68it/s]\n",
            "100% 40/40 [00:06<00:00,  5.91it/s]\n",
            "Train loss: 0.7822 | Val. loss: 0.7226\n",
            "acc = 0.7350 | f1 = 0.7340\n",
            "acc = 0.7498 | f1 = 0.7469\n",
            "\n",
            "Epoch: 11/20\n",
            "100% 352/352 [02:10<00:00,  2.70it/s]\n",
            "100% 40/40 [00:06<00:00,  5.89it/s]\n",
            "Train loss: 0.7599 | Val. loss: 0.6622\n",
            "acc = 0.7449 | f1 = 0.7440\n",
            "acc = 0.7670 | f1 = 0.7667\n",
            "\n",
            "Epoch: 12/20\n",
            "100% 352/352 [02:10<00:00,  2.70it/s]\n",
            "100% 40/40 [00:06<00:00,  5.96it/s]\n",
            "Train loss: 0.7287 | Val. loss: 0.6393\n",
            "acc = 0.7547 | f1 = 0.7541\n",
            "acc = 0.7740 | f1 = 0.7751\n",
            "\n",
            "Epoch: 13/20\n",
            "100% 352/352 [02:10<00:00,  2.69it/s]\n",
            "100% 40/40 [00:06<00:00,  6.03it/s]\n",
            "Train loss: 0.7074 | Val. loss: 0.5751\n",
            "acc = 0.7622 | f1 = 0.7614\n",
            "acc = 0.8044 | f1 = 0.8052\n",
            "\n",
            "Epoch: 14/20\n",
            "100% 352/352 [02:10<00:00,  2.69it/s]\n",
            "100% 40/40 [00:06<00:00,  5.99it/s]\n",
            "Train loss: 0.6875 | Val. loss: 0.5981\n",
            "acc = 0.7691 | f1 = 0.7683\n",
            "acc = 0.7928 | f1 = 0.7912\n",
            "\n",
            "Epoch: 15/20\n",
            "100% 352/352 [02:10<00:00,  2.69it/s]\n",
            "100% 40/40 [00:06<00:00,  5.97it/s]\n",
            "Train loss: 0.6681 | Val. loss: 0.6068\n",
            "acc = 0.7768 | f1 = 0.7763\n",
            "acc = 0.7962 | f1 = 0.7991\n",
            "\n",
            "Epoch: 16/20\n",
            "100% 352/352 [02:09<00:00,  2.71it/s]\n",
            "100% 40/40 [00:06<00:00,  6.00it/s]\n",
            "Train loss: 0.6502 | Val. loss: 0.5535\n",
            "acc = 0.7833 | f1 = 0.7825\n",
            "acc = 0.8090 | f1 = 0.8087\n",
            "\n",
            "Epoch: 17/20\n",
            "100% 352/352 [02:10<00:00,  2.71it/s]\n",
            "100% 40/40 [00:06<00:00,  6.05it/s]\n",
            "Train loss: 0.6320 | Val. loss: 0.5389\n",
            "acc = 0.7871 | f1 = 0.7863\n",
            "acc = 0.8230 | f1 = 0.8257\n",
            "\n",
            "Epoch: 18/20\n",
            "100% 352/352 [02:10<00:00,  2.70it/s]\n",
            "100% 40/40 [00:06<00:00,  6.11it/s]\n",
            "Train loss: 0.6237 | Val. loss: 0.5150\n",
            "acc = 0.7902 | f1 = 0.7896\n",
            "acc = 0.8262 | f1 = 0.8282\n",
            "\n",
            "Epoch: 19/20\n",
            "100% 352/352 [02:10<00:00,  2.70it/s]\n",
            "100% 40/40 [00:06<00:00,  6.06it/s]\n",
            "Train loss: 0.6031 | Val. loss: 0.4678\n",
            "acc = 0.7998 | f1 = 0.7991\n",
            "acc = 0.8374 | f1 = 0.8389\n",
            "\n",
            "Epoch: 20/20\n",
            "100% 352/352 [02:10<00:00,  2.71it/s]\n",
            "100% 40/40 [00:06<00:00,  6.11it/s]\n",
            "Train loss: 0.5965 | Val. loss: 0.4998\n",
            "acc = 0.8008 | f1 = 0.8001\n",
            "acc = 0.8260 | f1 = 0.8261\n",
            "\n",
            "Best epoch: 19 | Best F1: 0.8389\n",
            "\n",
            "Testing:\n",
            "100% 79/79 [00:13<00:00,  5.66it/s]\n",
            "Test loss: 0.5029\n",
            "acc = 0.8285 | f1 = 0.8290\n"
          ]
        }
      ]
    },
    {
      "cell_type": "code",
      "source": [
        ""
      ],
      "metadata": {
        "id": "tmY1eSBeoC_c"
      },
      "execution_count": null,
      "outputs": []
    }
  ]
}