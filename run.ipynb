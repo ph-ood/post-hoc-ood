{
  "nbformat": 4,
  "nbformat_minor": 0,
  "metadata": {
    "colab": {
      "name": "run.ipynb",
      "provenance": [],
      "collapsed_sections": [
        "C2L8oXxKl9DH"
      ]
    },
    "kernelspec": {
      "name": "python3",
      "display_name": "Python 3"
    },
    "language_info": {
      "name": "python"
    },
    "accelerator": "GPU"
  },
  "cells": [
    {
      "cell_type": "markdown",
      "source": [
        "## Mount GDrive"
      ],
      "metadata": {
        "id": "KTo5coB1lcOO"
      }
    },
    {
      "cell_type": "code",
      "execution_count": 1,
      "metadata": {
        "id": "fLvR0C3BlaCu",
        "colab": {
          "base_uri": "https://localhost:8080/"
        },
        "outputId": "a5c5a31e-1ac6-43fe-c599-903a6464e674"
      },
      "outputs": [
        {
          "output_type": "stream",
          "name": "stdout",
          "text": [
            "Mounted at /content/gdrive\n"
          ]
        }
      ],
      "source": [
        "# Connect to Drive\n",
        "from google.colab import drive\n",
        "drive.mount(\"/content/gdrive\")"
      ]
    },
    {
      "cell_type": "markdown",
      "source": [
        "## Start"
      ],
      "metadata": {
        "id": "C2L8oXxKl9DH"
      }
    },
    {
      "cell_type": "code",
      "source": [
        "%reset -f"
      ],
      "metadata": {
        "id": "Z8gPF2Eml-Rr"
      },
      "execution_count": 2,
      "outputs": []
    },
    {
      "cell_type": "code",
      "source": [
        "! nvidia-smi"
      ],
      "metadata": {
        "id": "u6j5WR1gl-u5",
        "outputId": "da745835-1a0a-4f1d-fa21-4261c2e5368b",
        "colab": {
          "base_uri": "https://localhost:8080/"
        }
      },
      "execution_count": 3,
      "outputs": [
        {
          "output_type": "stream",
          "name": "stdout",
          "text": [
            "Sun May  1 17:56:11 2022       \n",
            "+-----------------------------------------------------------------------------+\n",
            "| NVIDIA-SMI 460.32.03    Driver Version: 460.32.03    CUDA Version: 11.2     |\n",
            "|-------------------------------+----------------------+----------------------+\n",
            "| GPU  Name        Persistence-M| Bus-Id        Disp.A | Volatile Uncorr. ECC |\n",
            "| Fan  Temp  Perf  Pwr:Usage/Cap|         Memory-Usage | GPU-Util  Compute M. |\n",
            "|                               |                      |               MIG M. |\n",
            "|===============================+======================+======================|\n",
            "|   0  Tesla K80           Off  | 00000000:00:04.0 Off |                    0 |\n",
            "| N/A   72C    P8    35W / 149W |      0MiB / 11441MiB |      0%      Default |\n",
            "|                               |                      |                  N/A |\n",
            "+-------------------------------+----------------------+----------------------+\n",
            "                                                                               \n",
            "+-----------------------------------------------------------------------------+\n",
            "| Processes:                                                                  |\n",
            "|  GPU   GI   CI        PID   Type   Process name                  GPU Memory |\n",
            "|        ID   ID                                                   Usage      |\n",
            "|=============================================================================|\n",
            "|  No running processes found                                                 |\n",
            "+-----------------------------------------------------------------------------+\n"
          ]
        }
      ]
    },
    {
      "cell_type": "markdown",
      "source": [
        "## Main"
      ],
      "metadata": {
        "id": "D2I3dxq-leEo"
      }
    },
    {
      "cell_type": "markdown",
      "source": [
        "### Unzip data to `/content/data`"
      ],
      "metadata": {
        "id": "h1BiFt_AGxrv"
      }
    },
    {
      "cell_type": "code",
      "source": [
        "cd /content/gdrive/Shareddrives/AML/data"
      ],
      "metadata": {
        "id": "WmMHfGNdG0Ie",
        "colab": {
          "base_uri": "https://localhost:8080/"
        },
        "outputId": "cfaf836b-c57b-4c1e-8839-d89253c2ae2b"
      },
      "execution_count": 4,
      "outputs": [
        {
          "output_type": "stream",
          "name": "stdout",
          "text": [
            "/content/gdrive/Shareddrives/AML/data\n"
          ]
        }
      ]
    },
    {
      "cell_type": "code",
      "source": [
        "ls"
      ],
      "metadata": {
        "id": "5nfYrOqJfDKn"
      },
      "execution_count": null,
      "outputs": []
    },
    {
      "cell_type": "code",
      "source": [
        "!mkdir /content/data"
      ],
      "metadata": {
        "id": "bHuhzZPyTcQf"
      },
      "execution_count": 5,
      "outputs": []
    },
    {
      "cell_type": "code",
      "source": [
        "!unzip -q fmnist.zip -d /content/data/\n",
        "!unzip -q fmnist_patched.zip -d /content/data/"
      ],
      "metadata": {
        "id": "QtkKBEgSH3V6"
      },
      "execution_count": 6,
      "outputs": []
    },
    {
      "cell_type": "markdown",
      "source": [
        "### `cd` to code"
      ],
      "metadata": {
        "id": "PGA-qEQCoQAL"
      }
    },
    {
      "cell_type": "code",
      "source": [
        "cd /content/gdrive/Shareddrives/AML/code"
      ],
      "metadata": {
        "colab": {
          "base_uri": "https://localhost:8080/"
        },
        "id": "045LIUaynBX3",
        "outputId": "01f3f128-9753-4e82-880a-99c0f185fd12"
      },
      "execution_count": 7,
      "outputs": [
        {
          "output_type": "stream",
          "name": "stdout",
          "text": [
            "/content/gdrive/Shareddrives/AML/code\n"
          ]
        }
      ]
    },
    {
      "cell_type": "code",
      "source": [
        "ls"
      ],
      "metadata": {
        "colab": {
          "base_uri": "https://localhost:8080/"
        },
        "id": "NfKSIqb-V9EA",
        "outputId": "47ce8122-b16a-496d-e311-81b77a9590ad"
      },
      "execution_count": 8,
      "outputs": [
        {
          "output_type": "stream",
          "name": "stdout",
          "text": [
            "analyze_scores.py  dataset.py       \u001b[0m\u001b[01;34m__pycache__\u001b[0m/        test_ood.py\n",
            "augmentations.py   finetune_ood.py  run_classifier.py   train_dirichlet.py\n",
            "augment_data.py    losses.py        scores.py           utils.py\n",
            "config.py          mean_and_std.py  split_data.py\n",
            "data2csv.py        \u001b[01;34mmodels\u001b[0m/          test_classifier.py\n"
          ]
        }
      ]
    },
    {
      "cell_type": "markdown",
      "source": [
        "### Run `.py` files"
      ],
      "metadata": {
        "id": "JK-57DbhoS-v"
      }
    },
    {
      "cell_type": "code",
      "source": [
        "# Classifier\n",
        "# FNAME = \"run_classifier.py\"\n",
        "# ARGS = \"-d cifar10\"\n",
        "\n",
        "# OOD Classifier\n",
        "FNAME = \"finetune_ood.py\"\n",
        "ARGS = \"-i fmnist -f fmnist_patched -l dirichlet -n vgg16 -m 0.9270 -e 10\""
      ],
      "metadata": {
        "id": "adqG-H2toWNB"
      },
      "execution_count": 9,
      "outputs": []
    },
    {
      "cell_type": "code",
      "source": [
        "!python3 {FNAME} {ARGS}"
      ],
      "metadata": {
        "colab": {
          "base_uri": "https://localhost:8080/"
        },
        "id": "vhFWvbFJoCgR",
        "outputId": "44e2ad62-a016-4a49-c8d6-fd952fa0b973"
      },
      "execution_count": 13,
      "outputs": [
        {
          "output_type": "stream",
          "name": "stdout",
          "text": [
            "Using GPU: Tesla K80\n",
            "Epoch: 01/10\n",
            "430it [04:41,  1.53it/s]\n",
            "100% 40/40 [00:06<00:00,  5.88it/s]\n",
            "Train loss: -12.8142 | Val. loss: 0.9368\n",
            "acc = 0.9438 | f1 = 0.9437\n",
            "acc = 0.9028 | f1 = 0.9020\n",
            "\n",
            "Epoch: 02/10\n",
            "430it [04:41,  1.53it/s]\n",
            "100% 40/40 [00:06<00:00,  6.03it/s]\n",
            "Train loss: -169.3908 | Val. loss: 95.2339\n",
            "acc = 0.8142 | f1 = 0.8136\n",
            "acc = 0.4866 | f1 = 0.3986\n",
            "\n",
            "Epoch: 03/10\n",
            "430it [04:41,  1.53it/s]\n",
            "100% 40/40 [00:06<00:00,  5.95it/s]\n",
            "Train loss: -936.5324 | Val. loss: 295.8445\n",
            "acc = 0.6493 | f1 = 0.6489\n",
            "acc = 0.4426 | f1 = 0.3485\n",
            "\n",
            "Epoch: 04/10\n",
            "430it [04:41,  1.53it/s]\n",
            "100% 40/40 [00:06<00:00,  5.91it/s]\n",
            "Train loss: -3147.4258 | Val. loss: 32.8999\n",
            "acc = 0.5550 | f1 = 0.5534\n",
            "acc = 0.5820 | f1 = 0.5076\n",
            "\n",
            "Epoch: 05/10\n",
            "430it [04:39,  1.54it/s]\n",
            "100% 40/40 [00:06<00:00,  6.01it/s]\n",
            "Train loss: -7872.8732 | Val. loss: 286.4999\n",
            "acc = 0.5261 | f1 = 0.5229\n",
            "acc = 0.4528 | f1 = 0.3394\n",
            "\n",
            "Epoch: 06/10\n",
            "430it [04:38,  1.54it/s]\n",
            "100% 40/40 [00:06<00:00,  6.05it/s]\n",
            "Train loss: -16344.4811 | Val. loss: 1937.6082\n",
            "acc = 0.5075 | f1 = 0.5045\n",
            "acc = 0.3934 | f1 = 0.3135\n",
            "\n",
            "Epoch: 07/10\n",
            "430it [04:38,  1.54it/s]\n",
            "100% 40/40 [00:06<00:00,  5.88it/s]\n",
            "Train loss: -29818.2078 | Val. loss: 54.3921\n",
            "acc = 0.4950 | f1 = 0.4932\n",
            "acc = 0.5228 | f1 = 0.4619\n",
            "\n",
            "Epoch: 08/10\n",
            "170it [01:51,  1.53it/s]\n",
            "Traceback (most recent call last):\n",
            "  File \"finetune_ood.py\", line 249, in <module>\n",
            "    train_loss, train_true, train_preds = train(model, dl_train, dl_ft, optimizer, criterion)\n",
            "  File \"finetune_ood.py\", line 55, in train\n",
            "    epoch_loss += loss.detach().item()\n",
            "KeyboardInterrupt\n"
          ]
        }
      ]
    },
    {
      "cell_type": "code",
      "source": [
        ""
      ],
      "metadata": {
        "id": "tmY1eSBeoC_c"
      },
      "execution_count": null,
      "outputs": []
    }
  ]
}