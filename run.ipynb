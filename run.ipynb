{
  "nbformat": 4,
  "nbformat_minor": 0,
  "metadata": {
    "colab": {
      "name": "run.ipynb",
      "provenance": [],
      "collapsed_sections": []
    },
    "kernelspec": {
      "name": "python3",
      "display_name": "Python 3"
    },
    "language_info": {
      "name": "python"
    }
  },
  "cells": [
    {
      "cell_type": "markdown",
      "source": [
        "## Mount GDrive"
      ],
      "metadata": {
        "id": "KTo5coB1lcOO"
      }
    },
    {
      "cell_type": "code",
      "execution_count": 32,
      "metadata": {
        "id": "fLvR0C3BlaCu",
        "colab": {
          "base_uri": "https://localhost:8080/"
        },
        "outputId": "40fe5c3f-5e00-4f13-fbfe-2bc3da6a0bd8"
      },
      "outputs": [
        {
          "output_type": "stream",
          "name": "stdout",
          "text": [
            "Drive already mounted at /content/gdrive; to attempt to forcibly remount, call drive.mount(\"/content/gdrive\", force_remount=True).\n"
          ]
        }
      ],
      "source": [
        "# Connect to Drive\n",
        "from google.colab import drive\n",
        "drive.mount(\"/content/gdrive\")"
      ]
    },
    {
      "cell_type": "markdown",
      "source": [
        "## Start"
      ],
      "metadata": {
        "id": "C2L8oXxKl9DH"
      }
    },
    {
      "cell_type": "code",
      "source": [
        "%reset -f"
      ],
      "metadata": {
        "id": "Z8gPF2Eml-Rr"
      },
      "execution_count": 33,
      "outputs": []
    },
    {
      "cell_type": "code",
      "source": [
        "! nvidia-smi"
      ],
      "metadata": {
        "id": "u6j5WR1gl-u5",
        "colab": {
          "base_uri": "https://localhost:8080/"
        },
        "outputId": "313e99be-53c4-4e4d-e371-7ec54064a988"
      },
      "execution_count": 34,
      "outputs": [
        {
          "output_type": "stream",
          "name": "stdout",
          "text": [
            "NVIDIA-SMI has failed because it couldn't communicate with the NVIDIA driver. Make sure that the latest NVIDIA driver is installed and running.\n",
            "\n"
          ]
        }
      ]
    },
    {
      "cell_type": "markdown",
      "source": [
        "## Main"
      ],
      "metadata": {
        "id": "D2I3dxq-leEo"
      }
    },
    {
      "cell_type": "markdown",
      "source": [
        "### `cd` to code"
      ],
      "metadata": {
        "id": "PGA-qEQCoQAL"
      }
    },
    {
      "cell_type": "code",
      "source": [
        "! cd /content/gdrive/Shareddrives/AML/code\n",
        "! ls"
      ],
      "metadata": {
        "colab": {
          "base_uri": "https://localhost:8080/"
        },
        "id": "045LIUaynBX3",
        "outputId": "a9f02228-107c-4ce7-8f2f-07281abc67a2"
      },
      "execution_count": 35,
      "outputs": [
        {
          "output_type": "stream",
          "name": "stdout",
          "text": [
            "analyze_scores.py  dataset.py\t    models\t       split_data.py\n",
            "augment.py\t   finetune_ood.py  __pycache__        test_ood.py\n",
            "config.py\t   losses.py\t    run_classifier.py  utils.py\n",
            "data2csv.py\t   mean_and_std.py  scores.py\n"
          ]
        }
      ]
    },
    {
      "cell_type": "markdown",
      "source": [
        "### Run `.py` files"
      ],
      "metadata": {
        "id": "JK-57DbhoS-v"
      }
    },
    {
      "cell_type": "code",
      "source": [
        "FNAME = \"run_classifier.py\"\n",
        "ARGS = \"mnist\""
      ],
      "metadata": {
        "id": "adqG-H2toWNB"
      },
      "execution_count": 36,
      "outputs": []
    },
    {
      "cell_type": "code",
      "source": [
        "! python3 {FNAME} {ARGS}"
      ],
      "metadata": {
        "colab": {
          "base_uri": "https://localhost:8080/"
        },
        "id": "vhFWvbFJoCgR",
        "outputId": "2c5c49fd-6d36-423c-cd30-b29ef89cd24f"
      },
      "execution_count": 37,
      "outputs": [
        {
          "output_type": "stream",
          "name": "stdout",
          "text": [
            "Using CPU\n",
            "Traceback (most recent call last):\n",
            "  File \"run_classifier.py\", line 98, in <module>\n",
            "    df = pd.read_csv(f\"{path_data}/data.csv\")\n",
            "  File \"/usr/local/lib/python3.7/dist-packages/pandas/util/_decorators.py\", line 311, in wrapper\n",
            "    return func(*args, **kwargs)\n",
            "  File \"/usr/local/lib/python3.7/dist-packages/pandas/io/parsers/readers.py\", line 586, in read_csv\n",
            "    return _read(filepath_or_buffer, kwds)\n",
            "  File \"/usr/local/lib/python3.7/dist-packages/pandas/io/parsers/readers.py\", line 482, in _read\n",
            "    parser = TextFileReader(filepath_or_buffer, **kwds)\n",
            "  File \"/usr/local/lib/python3.7/dist-packages/pandas/io/parsers/readers.py\", line 811, in __init__\n",
            "    self._engine = self._make_engine(self.engine)\n",
            "  File \"/usr/local/lib/python3.7/dist-packages/pandas/io/parsers/readers.py\", line 1040, in _make_engine\n",
            "    return mapping[engine](self.f, **self.options)  # type: ignore[call-arg]\n",
            "  File \"/usr/local/lib/python3.7/dist-packages/pandas/io/parsers/c_parser_wrapper.py\", line 51, in __init__\n",
            "    self._open_handles(src, kwds)\n",
            "  File \"/usr/local/lib/python3.7/dist-packages/pandas/io/parsers/base_parser.py\", line 229, in _open_handles\n",
            "    errors=kwds.get(\"encoding_errors\", \"strict\"),\n",
            "  File \"/usr/local/lib/python3.7/dist-packages/pandas/io/common.py\", line 707, in get_handle\n",
            "    newline=\"\",\n",
            "FileNotFoundError: [Errno 2] No such file or directory: '../data/mnist/data.csv'\n"
          ]
        }
      ]
    },
    {
      "cell_type": "code",
      "source": [
        ""
      ],
      "metadata": {
        "id": "tmY1eSBeoC_c"
      },
      "execution_count": 37,
      "outputs": []
    }
  ]
}